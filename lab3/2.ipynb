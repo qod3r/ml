{
 "cells": [
  {
   "cell_type": "code",
   "execution_count": 2,
   "metadata": {},
   "outputs": [],
   "source": [
    "import pandas as pd\n",
    "import numpy as np\n",
    "import matplotlib.pyplot as plt\n",
    "\n",
    "\n",
    "data = [[\"Вжик\", \"Zipper the Fly\", \"fly\", \"0.7\"],\n",
    "[\"Гайка\", \"Gadget Hackwrench\", \"mouse\", None],\n",
    "[\"Дейл\", \"Dale\", \"chipmunk\", \"1\"],\n",
    "[\"Рокфор\", \"Monterey Jack\", \"mouse\", \"0.8\"],\n",
    "[\"Чип\", \"Chip\", \"chipmunk\", \"0.2\"]]"
   ]
  },
  {
   "cell_type": "markdown",
   "metadata": {},
   "source": [
    "1. На основе этого списка создайте датафрейм df так, чтобы каждому показателю\n",
    "(ru_name, en_name, class, cheer) соответствовал один столбец датафрейма.\n",
    "Проверьте, что последний столбец является числовым. Если нет, приведите его к\n",
    "типу float."
   ]
  },
  {
   "cell_type": "code",
   "execution_count": 3,
   "metadata": {},
   "outputs": [
    {
     "name": "stdout",
     "output_type": "stream",
     "text": [
      "  ru_name            en_name     class  cheer\n",
      "0    Вжик     Zipper the Fly       fly    0.7\n",
      "1   Гайка  Gadget Hackwrench     mouse    NaN\n",
      "2    Дейл               Dale  chipmunk    1.0\n",
      "3  Рокфор      Monterey Jack     mouse    0.8\n",
      "4     Чип               Chip  chipmunk    0.2\n",
      "<class 'pandas.core.frame.DataFrame'>\n",
      "RangeIndex: 5 entries, 0 to 4\n",
      "Data columns (total 4 columns):\n",
      " #   Column   Non-Null Count  Dtype  \n",
      "---  ------   --------------  -----  \n",
      " 0   ru_name  5 non-null      object \n",
      " 1   en_name  5 non-null      object \n",
      " 2   class    5 non-null      object \n",
      " 3   cheer    4 non-null      float64\n",
      "dtypes: float64(1), object(3)\n",
      "memory usage: 288.0+ bytes\n"
     ]
    }
   ],
   "source": [
    "df = pd.DataFrame(data, columns=[\"ru_name\", \"en_name\", \"class\", \"cheer\"])\n",
    "df[\"cheer\"] = df[\"cheer\"].apply(lambda x: pd.to_numeric(x))\n",
    "print(df)\n",
    "df.info()"
   ]
  },
  {
   "cell_type": "markdown",
   "metadata": {},
   "source": [
    "2. Выведите число строк датафрейма df."
   ]
  },
  {
   "cell_type": "code",
   "execution_count": 6,
   "metadata": {},
   "outputs": [
    {
     "data": {
      "text/plain": [
       "5"
      ]
     },
     "execution_count": 6,
     "metadata": {},
     "output_type": "execute_result"
    }
   ],
   "source": [
    "len(df.index)"
   ]
  },
  {
   "cell_type": "markdown",
   "metadata": {},
   "source": [
    "3. Выведите число заполненных (не NaN) ячеек в последнем столбце"
   ]
  },
  {
   "cell_type": "code",
   "execution_count": 7,
   "metadata": {},
   "outputs": [
    {
     "name": "stdout",
     "output_type": "stream",
     "text": [
      "non-na in [cheer]: 4\n"
     ]
    }
   ],
   "source": [
    "print(f\"non-na in [cheer]: {df['cheer'].notna().sum()}\")"
   ]
  },
  {
   "cell_type": "markdown",
   "metadata": {},
   "source": [
    "4. Выведите значение в ячейке, которая находится на пересечении третьей строки и\n",
    "второго столбца."
   ]
  },
  {
   "cell_type": "code",
   "execution_count": 8,
   "metadata": {},
   "outputs": [
    {
     "name": "stdout",
     "output_type": "stream",
     "text": [
      "\n",
      "4.\n",
      "df[3][2]: Dale\n"
     ]
    }
   ],
   "source": [
    "print(f\"\\n4.\\ndf[3][2]: {df.iloc[2][1]}\")"
   ]
  },
  {
   "cell_type": "markdown",
   "metadata": {},
   "source": [
    "5. Сохраните в переменную df1 строки датафрейма df со второй по четвертую\n",
    "включительно и столбцы с первого по третий включительно. Продемонстрируйте\n",
    "содержимое df1."
   ]
  },
  {
   "cell_type": "code",
   "execution_count": 10,
   "metadata": {},
   "outputs": [
    {
     "data": {
      "text/html": [
       "<div>\n",
       "<style scoped>\n",
       "    .dataframe tbody tr th:only-of-type {\n",
       "        vertical-align: middle;\n",
       "    }\n",
       "\n",
       "    .dataframe tbody tr th {\n",
       "        vertical-align: top;\n",
       "    }\n",
       "\n",
       "    .dataframe thead th {\n",
       "        text-align: right;\n",
       "    }\n",
       "</style>\n",
       "<table border=\"1\" class=\"dataframe\">\n",
       "  <thead>\n",
       "    <tr style=\"text-align: right;\">\n",
       "      <th></th>\n",
       "      <th>ru_name</th>\n",
       "      <th>en_name</th>\n",
       "      <th>class</th>\n",
       "      <th>cheer</th>\n",
       "    </tr>\n",
       "  </thead>\n",
       "  <tbody>\n",
       "    <tr>\n",
       "      <th>1</th>\n",
       "      <td>Гайка</td>\n",
       "      <td>Gadget Hackwrench</td>\n",
       "      <td>mouse</td>\n",
       "      <td>NaN</td>\n",
       "    </tr>\n",
       "    <tr>\n",
       "      <th>2</th>\n",
       "      <td>Дейл</td>\n",
       "      <td>Dale</td>\n",
       "      <td>chipmunk</td>\n",
       "      <td>1.0</td>\n",
       "    </tr>\n",
       "    <tr>\n",
       "      <th>3</th>\n",
       "      <td>Рокфор</td>\n",
       "      <td>Monterey Jack</td>\n",
       "      <td>mouse</td>\n",
       "      <td>0.8</td>\n",
       "    </tr>\n",
       "  </tbody>\n",
       "</table>\n",
       "</div>"
      ],
      "text/plain": [
       "  ru_name            en_name     class  cheer\n",
       "1   Гайка  Gadget Hackwrench     mouse    NaN\n",
       "2    Дейл               Dale  chipmunk    1.0\n",
       "3  Рокфор      Monterey Jack     mouse    0.8"
      ]
     },
     "execution_count": 10,
     "metadata": {},
     "output_type": "execute_result"
    }
   ],
   "source": [
    "df1 = df[1:4]\n",
    "df1"
   ]
  },
  {
   "cell_type": "markdown",
   "metadata": {},
   "source": [
    "6. Присвойте столбцам датафрейма df следующие названия: ru_name, en_name, class,\n",
    "cheer.\n",
    "Сделано в первом задании"
   ]
  },
  {
   "cell_type": "markdown",
   "metadata": {},
   "source": [
    "7. Добавьте в датафрейм df столбец logcheer, который содержит логарифмированные\n",
    "значения cheer (если в cheer встречается NaN, то и в logcheer тоже)."
   ]
  },
  {
   "cell_type": "code",
   "execution_count": 11,
   "metadata": {},
   "outputs": [
    {
     "data": {
      "text/html": [
       "<div>\n",
       "<style scoped>\n",
       "    .dataframe tbody tr th:only-of-type {\n",
       "        vertical-align: middle;\n",
       "    }\n",
       "\n",
       "    .dataframe tbody tr th {\n",
       "        vertical-align: top;\n",
       "    }\n",
       "\n",
       "    .dataframe thead th {\n",
       "        text-align: right;\n",
       "    }\n",
       "</style>\n",
       "<table border=\"1\" class=\"dataframe\">\n",
       "  <thead>\n",
       "    <tr style=\"text-align: right;\">\n",
       "      <th></th>\n",
       "      <th>ru_name</th>\n",
       "      <th>en_name</th>\n",
       "      <th>class</th>\n",
       "      <th>cheer</th>\n",
       "      <th>logcheer</th>\n",
       "    </tr>\n",
       "  </thead>\n",
       "  <tbody>\n",
       "    <tr>\n",
       "      <th>0</th>\n",
       "      <td>Вжик</td>\n",
       "      <td>Zipper the Fly</td>\n",
       "      <td>fly</td>\n",
       "      <td>0.7</td>\n",
       "      <td>-0.356675</td>\n",
       "    </tr>\n",
       "    <tr>\n",
       "      <th>1</th>\n",
       "      <td>Гайка</td>\n",
       "      <td>Gadget Hackwrench</td>\n",
       "      <td>mouse</td>\n",
       "      <td>NaN</td>\n",
       "      <td>NaN</td>\n",
       "    </tr>\n",
       "    <tr>\n",
       "      <th>2</th>\n",
       "      <td>Дейл</td>\n",
       "      <td>Dale</td>\n",
       "      <td>chipmunk</td>\n",
       "      <td>1.0</td>\n",
       "      <td>0.000000</td>\n",
       "    </tr>\n",
       "    <tr>\n",
       "      <th>3</th>\n",
       "      <td>Рокфор</td>\n",
       "      <td>Monterey Jack</td>\n",
       "      <td>mouse</td>\n",
       "      <td>0.8</td>\n",
       "      <td>-0.223144</td>\n",
       "    </tr>\n",
       "    <tr>\n",
       "      <th>4</th>\n",
       "      <td>Чип</td>\n",
       "      <td>Chip</td>\n",
       "      <td>chipmunk</td>\n",
       "      <td>0.2</td>\n",
       "      <td>-1.609438</td>\n",
       "    </tr>\n",
       "  </tbody>\n",
       "</table>\n",
       "</div>"
      ],
      "text/plain": [
       "  ru_name            en_name     class  cheer  logcheer\n",
       "0    Вжик     Zipper the Fly       fly    0.7 -0.356675\n",
       "1   Гайка  Gadget Hackwrench     mouse    NaN       NaN\n",
       "2    Дейл               Dale  chipmunk    1.0  0.000000\n",
       "3  Рокфор      Monterey Jack     mouse    0.8 -0.223144\n",
       "4     Чип               Chip  chipmunk    0.2 -1.609438"
      ]
     },
     "execution_count": 11,
     "metadata": {},
     "output_type": "execute_result"
    }
   ],
   "source": [
    "df[\"logcheer\"] = df[\"cheer\"].apply(np.log)\n",
    "df"
   ]
  },
  {
   "cell_type": "markdown",
   "metadata": {},
   "source": [
    "8. Сохраните массив уникальных значений столбца class в переменную x, а\n",
    "соответствующие им частоты (сколько раз значение встречается в столбце) — в\n",
    "переменную y. Используя полученные x и y, постройте столбиковую диаграмму,\n",
    "barplot, для class. Добавьте заголовок и подписи к осям."
   ]
  },
  {
   "cell_type": "code",
   "execution_count": 12,
   "metadata": {},
   "outputs": [
    {
     "name": "stdout",
     "output_type": "stream",
     "text": [
      "mouse       2\n",
      "chipmunk    2\n",
      "fly         1\n",
      "Name: class, dtype: int64\n"
     ]
    },
    {
     "data": {
      "image/png": "[encoded data removed]",
      "text/plain": [
       "<Figure size 640x480 with 1 Axes>"
      ]
     },
     "metadata": {},
     "output_type": "display_data"
    }
   ],
   "source": [
    "counts = df[\"class\"].value_counts()\n",
    "print(counts)\n",
    "plt.bar(counts.index, counts.values)\n",
    "plt.title(\"classes\")\n",
    "plt.xlabel(\"class\")\n",
    "plt.ylabel(\"count\")\n",
    "plt.show()"
   ]
  }
 ],
 "metadata": {
  "kernelspec": {
   "display_name": "Python 3.10.7 64-bit",
   "language": "python",
   "name": "python3"
  },
  "language_info": {
   "codemirror_mode": {
    "name": "ipython",
    "version": 3
   },
   "file_extension": ".py",
   "mimetype": "text/x-python",
   "name": "python",
   "nbconvert_exporter": "python",
   "pygments_lexer": "ipython3",
   "version": "3.10.7"
  },
  "orig_nbformat": 4,
  "vscode": {
   "interpreter": {
    "hash": "97cc609b13305c559618ec78a438abc56230b9381f827f22d070313b9a1f3777"
   }
  }
 },
 "nbformat": 4,
 "nbformat_minor": 2
}
