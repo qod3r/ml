{
 "cells": [
  {
   "cell_type": "code",
   "execution_count": 1,
   "metadata": {},
   "outputs": [],
   "source": [
    "import pandas as pd\n",
    "import matplotlib.pyplot as plt"
   ]
  },
  {
   "cell_type": "markdown",
   "metadata": {},
   "source": [
    "1. Загрузка данных"
   ]
  },
  {
   "cell_type": "code",
   "execution_count": 3,
   "metadata": {},
   "outputs": [],
   "source": [
    "df = pd.read_csv(\"la-crimes-sample.csv\")"
   ]
  },
  {
   "cell_type": "markdown",
   "metadata": {},
   "source": [
    "2. Сколько строк и столбцов в таблице?"
   ]
  },
  {
   "cell_type": "code",
   "execution_count": 4,
   "metadata": {},
   "outputs": [
    {
     "name": "stdout",
     "output_type": "stream",
     "text": [
      "2.\n",
      "rows: 39608, cols: 27\n"
     ]
    }
   ],
   "source": [
    "print(f\"2.\\nrows: {len(df.index)}, cols: {len(df.columns)}\")"
   ]
  },
  {
   "cell_type": "markdown",
   "metadata": {},
   "source": [
    "3. Каковы названия столбцов? Какие типы данных у столбцов?"
   ]
  },
  {
   "cell_type": "code",
   "execution_count": 5,
   "metadata": {},
   "outputs": [
    {
     "name": "stdout",
     "output_type": "stream",
     "text": [
      "<class 'pandas.core.frame.DataFrame'>\n",
      "RangeIndex: 39608 entries, 0 to 39607\n",
      "Data columns (total 27 columns):\n",
      " #   Column                  Non-Null Count  Dtype  \n",
      "---  ------                  --------------  -----  \n",
      " 0   Unnamed: 0              39608 non-null  int64  \n",
      " 1   DR Number               39608 non-null  int64  \n",
      " 2   Date Reported           39608 non-null  object \n",
      " 3   Date Occurred           39608 non-null  object \n",
      " 4   Time Occurred           39608 non-null  int64  \n",
      " 5   Area ID                 39608 non-null  int64  \n",
      " 6   Area Name               39608 non-null  object \n",
      " 7   Reporting District      39608 non-null  int64  \n",
      " 8   Crime Code              39608 non-null  int64  \n",
      " 9   Crime Code Description  39601 non-null  object \n",
      " 10  MO Codes                35317 non-null  object \n",
      " 11  Victim Age              36388 non-null  float64\n",
      " 12  Victim Sex              35977 non-null  object \n",
      " 13  Victim Descent          35976 non-null  object \n",
      " 14  Premise Code            39605 non-null  float64\n",
      " 15  Premise Description     39536 non-null  object \n",
      " 16  Weapon Used Code        13078 non-null  float64\n",
      " 17  Weapon Description      13078 non-null  object \n",
      " 18  Status Code             39608 non-null  object \n",
      " 19  Status Description      39608 non-null  object \n",
      " 20  Crime Code 1            39608 non-null  float64\n",
      " 21  Crime Code 2            2483 non-null   float64\n",
      " 22  Crime Code 3            50 non-null     float64\n",
      " 23  Crime Code 4            2 non-null      float64\n",
      " 24  Address                 39608 non-null  object \n",
      " 25  Cross Street            6630 non-null   object \n",
      " 26  Location                39607 non-null  object \n",
      "dtypes: float64(7), int64(6), object(14)\n",
      "memory usage: 8.2+ MB\n"
     ]
    }
   ],
   "source": [
    "df.info()"
   ]
  },
  {
   "cell_type": "markdown",
   "metadata": {},
   "source": [
    "4. Сколько в каждом из них уникальных значений?\n"
   ]
  },
  {
   "cell_type": "code",
   "execution_count": 6,
   "metadata": {},
   "outputs": [
    {
     "data": {
      "text/plain": [
       "Unnamed: 0                39608\n",
       "DR Number                 39608\n",
       "Date Reported              2809\n",
       "Date Occurred              2808\n",
       "Time Occurred               900\n",
       "Area ID                      21\n",
       "Area Name                    21\n",
       "Reporting District         1135\n",
       "Crime Code                  115\n",
       "Crime Code Description      113\n",
       "MO Codes                  14019\n",
       "Victim Age                   90\n",
       "Victim Sex                    4\n",
       "Victim Descent               17\n",
       "Premise Code                189\n",
       "Premise Description         170\n",
       "Weapon Used Code             65\n",
       "Weapon Description           65\n",
       "Status Code                   6\n",
       "Status Description            6\n",
       "Crime Code 1                116\n",
       "Crime Code 2                 67\n",
       "Crime Code 3                  9\n",
       "Crime Code 4                  2\n",
       "Address                   19762\n",
       "Cross Street               2064\n",
       "Location                  19048\n",
       "dtype: int64"
      ]
     },
     "execution_count": 6,
     "metadata": {},
     "output_type": "execute_result"
    }
   ],
   "source": [
    "df.nunique()"
   ]
  },
  {
   "cell_type": "markdown",
   "metadata": {},
   "source": [
    "5. Сколько пропущенных значений?"
   ]
  },
  {
   "cell_type": "code",
   "execution_count": 7,
   "metadata": {},
   "outputs": [
    {
     "data": {
      "text/plain": [
       "Unnamed: 0                    0\n",
       "DR Number                     0\n",
       "Date Reported                 0\n",
       "Date Occurred                 0\n",
       "Time Occurred                 0\n",
       "Area ID                       0\n",
       "Area Name                     0\n",
       "Reporting District            0\n",
       "Crime Code                    0\n",
       "Crime Code Description        7\n",
       "MO Codes                   4291\n",
       "Victim Age                 3220\n",
       "Victim Sex                 3631\n",
       "Victim Descent             3632\n",
       "Premise Code                  3\n",
       "Premise Description          72\n",
       "Weapon Used Code          26530\n",
       "Weapon Description        26530\n",
       "Status Code                   0\n",
       "Status Description            0\n",
       "Crime Code 1                  0\n",
       "Crime Code 2              37125\n",
       "Crime Code 3              39558\n",
       "Crime Code 4              39606\n",
       "Address                       0\n",
       "Cross Street              32978\n",
       "Location                      1\n",
       "dtype: int64"
      ]
     },
     "execution_count": 7,
     "metadata": {},
     "output_type": "execute_result"
    }
   ],
   "source": [
    "df.isna().sum()"
   ]
  },
  {
   "cell_type": "markdown",
   "metadata": {},
   "source": [
    "6. Верно ли, что женщины чаще оказываются жертвами по сравнению с мужчинами?"
   ]
  },
  {
   "cell_type": "code",
   "execution_count": 8,
   "metadata": {},
   "outputs": [
    {
     "name": "stdout",
     "output_type": "stream",
     "text": [
      "female victims: 22816\n",
      "male victims: 21044\n",
      "true\n"
     ]
    }
   ],
   "source": [
    "counts_female = (df[\"Victim Sex\"] == \"F\").value_counts()\n",
    "counts_male = (df[\"Victim Sex\"] == \"M\").value_counts()\n",
    "\n",
    "print(f\"female victims: {counts_female[0]}\\nmale victims: {counts_male[0]}\")\n",
    "if counts_female[0] > counts_male[0]:\n",
    "    print(\"true\")\n",
    "else:\n",
    "    print(\"false\")"
   ]
  },
  {
   "cell_type": "markdown",
   "metadata": {},
   "source": [
    "7. Определите 10 самых распространенных преступлений в Лос-Анджелесе.\n",
    "Постройте график.\n"
   ]
  },
  {
   "cell_type": "code",
   "execution_count": 9,
   "metadata": {},
   "outputs": [
    {
     "name": "stdout",
     "output_type": "stream",
     "text": [
      "624    3581\n",
      "510    3048\n",
      "330    3038\n",
      "310    2938\n",
      "440    2866\n",
      "354    2522\n",
      "626    2147\n",
      "740    2027\n",
      "745    1759\n",
      "230    1656\n",
      "Name: Crime Code, dtype: int64\n"
     ]
    },
    {
     "data": {
      "image/png": "[encoded data removed]",
      "text/plain": [
       "<Figure size 640x480 with 1 Axes>"
      ]
     },
     "metadata": {},
     "output_type": "display_data"
    }
   ],
   "source": [
    "crimes = df[\"Crime Code\"].value_counts()\n",
    "print(crimes[:10])\n",
    "plt.bar(list(map(str, crimes[:10].index)), crimes[:10].values)\n",
    "plt.xlabel(\"crime code\")\n",
    "plt.ylabel(\"offense count\")\n",
    "plt.show()"
   ]
  },
  {
   "cell_type": "markdown",
   "metadata": {},
   "source": [
    "8. От каких преступлений чаще страдают женщины, а от каких мужчины?"
   ]
  },
  {
   "cell_type": "code",
   "execution_count": 10,
   "metadata": {},
   "outputs": [
    {
     "name": "stdout",
     "output_type": "stream",
     "text": [
      "female:  BATTERY - SIMPLE ASSAULT\n",
      "male:  BATTERY - SIMPLE ASSAULT\n"
     ]
    }
   ],
   "source": [
    "counts_female = df[df[\"Victim Sex\"] == \"F\"][\"Crime Code\"].value_counts()\n",
    "counts_male = df[df[\"Victim Sex\"] == \"M\"][\"Crime Code\"].value_counts()\n",
    "print(\"female: \", df[df[\"Crime Code\"] == counts_female.index[0]][\"Crime Code Description\"].values[0])\n",
    "print(\"male: \", df[df[\"Crime Code\"] == counts_male.index[0]][\"Crime Code Description\"].values[0])"
   ]
  },
  {
   "cell_type": "markdown",
   "metadata": {},
   "source": [
    "9. Люди какого происхождения чаще всего подвергаются преступлениям?\n"
   ]
  },
  {
   "cell_type": "code",
   "execution_count": 11,
   "metadata": {},
   "outputs": [
    {
     "data": {
      "text/plain": [
       "H    13488\n",
       "W     9884\n",
       "B     6449\n",
       "Name: Victim Descent, dtype: int64"
      ]
     },
     "execution_count": 11,
     "metadata": {},
     "output_type": "execute_result"
    }
   ],
   "source": [
    "df[\"Victim Descent\"].value_counts()[:3]"
   ]
  },
  {
   "cell_type": "markdown",
   "metadata": {},
   "source": [
    "10. Отсортируйте районы, по количеству преступлений. Постройте график,\n",
    "показывающий самые безопасный и опасный районы.\n"
   ]
  },
  {
   "cell_type": "code",
   "execution_count": 12,
   "metadata": {},
   "outputs": [
    {
     "data": {
      "image/png": "[encoded data removed]",
      "text/plain": [
       "<Figure size 640x480 with 1 Axes>"
      ]
     },
     "metadata": {},
     "output_type": "display_data"
    }
   ],
   "source": [
    "areas = df[\"Area Name\"].value_counts()\n",
    "safe_n, safe_v = areas.index[-1], areas.values[-1]\n",
    "dang_n, dang_v = areas.index[0], areas.values[0]\n",
    "plt.figure()\n",
    "plt.bar([safe_n, dang_n], [safe_v, dang_v])\n",
    "plt.show()"
   ]
  }
 ],
 "metadata": {
  "kernelspec": {
   "display_name": "Python 3.10.7 64-bit",
   "language": "python",
   "name": "python3"
  },
  "language_info": {
   "codemirror_mode": {
    "name": "ipython",
    "version": 3
   },
   "file_extension": ".py",
   "mimetype": "text/x-python",
   "name": "python",
   "nbconvert_exporter": "python",
   "pygments_lexer": "ipython3",
   "version": "3.10.7"
  },
  "orig_nbformat": 4,
  "vscode": {
   "interpreter": {
    "hash": "97cc609b13305c559618ec78a438abc56230b9381f827f22d070313b9a1f3777"
   }
  }
 },
 "nbformat": 4,
 "nbformat_minor": 2
}
