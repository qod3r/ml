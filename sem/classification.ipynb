{
 "cells": [
  {
   "attachments": {},
   "cell_type": "markdown",
   "metadata": {},
   "source": [
    "1. Проведите предварительный анализ и подготовку данных, обработайте\n",
    "пропущенные значения."
   ]
  },
  {
   "cell_type": "code",
   "execution_count": 69,
   "metadata": {},
   "outputs": [
    {
     "data": {
      "text/html": [
       "<div>\n",
       "<style scoped>\n",
       "    .dataframe tbody tr th:only-of-type {\n",
       "        vertical-align: middle;\n",
       "    }\n",
       "\n",
       "    .dataframe tbody tr th {\n",
       "        vertical-align: top;\n",
       "    }\n",
       "\n",
       "    .dataframe thead th {\n",
       "        text-align: right;\n",
       "    }\n",
       "</style>\n",
       "<table border=\"1\" class=\"dataframe\">\n",
       "  <thead>\n",
       "    <tr style=\"text-align: right;\">\n",
       "      <th></th>\n",
       "      <th>1</th>\n",
       "      <th>2</th>\n",
       "      <th>3</th>\n",
       "      <th>4</th>\n",
       "      <th>5</th>\n",
       "      <th>6</th>\n",
       "      <th>7</th>\n",
       "      <th>target</th>\n",
       "    </tr>\n",
       "  </thead>\n",
       "  <tbody>\n",
       "    <tr>\n",
       "      <th>0</th>\n",
       "      <td>-0.452892</td>\n",
       "      <td>0.137497</td>\n",
       "      <td>-0.539387</td>\n",
       "      <td>-0.033506</td>\n",
       "      <td>-0.051796</td>\n",
       "      <td>-0.539387</td>\n",
       "      <td>1.309584</td>\n",
       "      <td>1</td>\n",
       "    </tr>\n",
       "    <tr>\n",
       "      <th>1</th>\n",
       "      <td>2.183568</td>\n",
       "      <td>-0.465947</td>\n",
       "      <td>0.100564</td>\n",
       "      <td>-0.254450</td>\n",
       "      <td>-0.177177</td>\n",
       "      <td>0.100564</td>\n",
       "      <td>-0.948185</td>\n",
       "      <td>2</td>\n",
       "    </tr>\n",
       "    <tr>\n",
       "      <th>2</th>\n",
       "      <td>-1.202893</td>\n",
       "      <td>-0.495887</td>\n",
       "      <td>-1.397155</td>\n",
       "      <td>-0.083091</td>\n",
       "      <td>0.027211</td>\n",
       "      <td>-1.397155</td>\n",
       "      <td>-0.387794</td>\n",
       "      <td>1</td>\n",
       "    </tr>\n",
       "    <tr>\n",
       "      <th>3</th>\n",
       "      <td>1.259791</td>\n",
       "      <td>0.059177</td>\n",
       "      <td>-1.695189</td>\n",
       "      <td>-0.438530</td>\n",
       "      <td>1.569401</td>\n",
       "      <td>-1.695189</td>\n",
       "      <td>-0.521768</td>\n",
       "      <td>0</td>\n",
       "    </tr>\n",
       "    <tr>\n",
       "      <th>4</th>\n",
       "      <td>1.266819</td>\n",
       "      <td>1.446586</td>\n",
       "      <td>0.584326</td>\n",
       "      <td>-0.060100</td>\n",
       "      <td>0.965535</td>\n",
       "      <td>0.584326</td>\n",
       "      <td>0.299563</td>\n",
       "      <td>2</td>\n",
       "    </tr>\n",
       "  </tbody>\n",
       "</table>\n",
       "</div>"
      ],
      "text/plain": [
       "          1         2         3         4         5         6         7  \\\n",
       "0 -0.452892  0.137497 -0.539387 -0.033506 -0.051796 -0.539387  1.309584   \n",
       "1  2.183568 -0.465947  0.100564 -0.254450 -0.177177  0.100564 -0.948185   \n",
       "2 -1.202893 -0.495887 -1.397155 -0.083091  0.027211 -1.397155 -0.387794   \n",
       "3  1.259791  0.059177 -1.695189 -0.438530  1.569401 -1.695189 -0.521768   \n",
       "4  1.266819  1.446586  0.584326 -0.060100  0.965535  0.584326  0.299563   \n",
       "\n",
       "   target  \n",
       "0       1  \n",
       "1       2  \n",
       "2       1  \n",
       "3       0  \n",
       "4       2  "
      ]
     },
     "execution_count": 69,
     "metadata": {},
     "output_type": "execute_result"
    }
   ],
   "source": [
    "import pandas as pd\n",
    "\n",
    "df = pd.read_csv('classification_var4.csv', sep=';', names=list(map(str, list(range(1, 8)))) + ['target'])\n",
    "df.head()"
   ]
  },
  {
   "cell_type": "code",
   "execution_count": 70,
   "metadata": {},
   "outputs": [
    {
     "name": "stdout",
     "output_type": "stream",
     "text": [
      "<class 'pandas.core.frame.DataFrame'>\n",
      "RangeIndex: 100 entries, 0 to 99\n",
      "Data columns (total 8 columns):\n",
      " #   Column  Non-Null Count  Dtype  \n",
      "---  ------  --------------  -----  \n",
      " 0   1       95 non-null     float64\n",
      " 1   2       100 non-null    float64\n",
      " 2   3       100 non-null    float64\n",
      " 3   4       100 non-null    float64\n",
      " 4   5       100 non-null    float64\n",
      " 5   6       95 non-null     float64\n",
      " 6   7       100 non-null    float64\n",
      " 7   target  100 non-null    int64  \n",
      "dtypes: float64(7), int64(1)\n",
      "memory usage: 6.4 KB\n"
     ]
    }
   ],
   "source": [
    "df.info()"
   ]
  },
  {
   "cell_type": "code",
   "execution_count": 71,
   "metadata": {},
   "outputs": [],
   "source": [
    "# удалим пропуски\n",
    "df = df.dropna()"
   ]
  },
  {
   "attachments": {},
   "cell_type": "markdown",
   "metadata": {},
   "source": [
    "2. Проведите статистический анализ, оцените корреляции между признаками, оцените\n",
    "возможные выбросы в данных, постройте поясняющие графики. Удалите из\n",
    "рассмотрения признаки, которые не влияют на целевой."
   ]
  },
  {
   "cell_type": "code",
   "execution_count": 72,
   "metadata": {},
   "outputs": [
    {
     "data": {
      "text/plain": [
       "<AxesSubplot:>"
      ]
     },
     "execution_count": 72,
     "metadata": {},
     "output_type": "execute_result"
    },
    {
     "data": {
      "image/png": "[encoded data removed]",
      "text/plain": [
       "<Figure size 640x480 with 2 Axes>"
      ]
     },
     "metadata": {},
     "output_type": "display_data"
    }
   ],
   "source": [
    "import seaborn as sb\n",
    "\n",
    "sb.heatmap(df.corr(), annot = True)"
   ]
  },
  {
   "attachments": {},
   "cell_type": "markdown",
   "metadata": {},
   "source": [
    "Видно, что 3 и 6 признаки одинаковы, удаляем один из них"
   ]
  },
  {
   "cell_type": "code",
   "execution_count": 73,
   "metadata": {},
   "outputs": [],
   "source": [
    "df = df.drop('6', axis=1)"
   ]
  },
  {
   "attachments": {},
   "cell_type": "markdown",
   "metadata": {},
   "source": [
    "Проверим выбросы"
   ]
  },
  {
   "cell_type": "code",
   "execution_count": 74,
   "metadata": {},
   "outputs": [
    {
     "data": {
      "text/plain": [
       "<AxesSubplot:>"
      ]
     },
     "execution_count": 74,
     "metadata": {},
     "output_type": "execute_result"
    },
    {
     "data": {
      "image/png": "[encoded data removed]",
      "text/plain": [
       "<Figure size 640x480 with 1 Axes>"
      ]
     },
     "metadata": {},
     "output_type": "display_data"
    }
   ],
   "source": [
    "sb.boxplot(data=df.drop('target', axis=1))"
   ]
  },
  {
   "attachments": {},
   "cell_type": "markdown",
   "metadata": {},
   "source": [
    "Видно большой разброс у четвертого признака, удалим эти строки"
   ]
  },
  {
   "cell_type": "code",
   "execution_count": 75,
   "metadata": {},
   "outputs": [],
   "source": [
    "df = df.loc[df['4'] < 1]\n",
    "df = df.loc[df['4'] > -1]"
   ]
  },
  {
   "cell_type": "code",
   "execution_count": 76,
   "metadata": {},
   "outputs": [
    {
     "data": {
      "text/plain": [
       "<AxesSubplot:>"
      ]
     },
     "execution_count": 76,
     "metadata": {},
     "output_type": "execute_result"
    },
    {
     "data": {
      "image/png": "[encoded data removed]",
      "text/plain": [
       "<Figure size 640x480 with 1 Axes>"
      ]
     },
     "metadata": {},
     "output_type": "display_data"
    }
   ],
   "source": [
    "sb.boxplot(data=df.drop('target', axis=1))"
   ]
  },
  {
   "attachments": {},
   "cell_type": "markdown",
   "metadata": {},
   "source": [
    "3. Разбейте выборку на тренировочные и тестовые данные (60% на 40%)."
   ]
  },
  {
   "cell_type": "code",
   "execution_count": 77,
   "metadata": {},
   "outputs": [],
   "source": [
    "from sklearn.model_selection import train_test_split\n",
    "from sklearn.preprocessing import scale\n",
    "from sklearn.model_selection import GridSearchCV\n",
    "\n",
    "X = df.drop('target', axis=1)\n",
    "y = df['target']\n",
    "\n",
    "X_train, X_test, y_train, y_test = train_test_split(X, y, test_size=0.4, random_state=42)"
   ]
  },
  {
   "attachments": {},
   "cell_type": "markdown",
   "metadata": {},
   "source": [
    "4. Для предсказания класса постройте две модели, используя библиотеку sklearn"
   ]
  },
  {
   "attachments": {},
   "cell_type": "markdown",
   "metadata": {},
   "source": [
    "### RandomForestClassifier"
   ]
  },
  {
   "cell_type": "code",
   "execution_count": 78,
   "metadata": {},
   "outputs": [
    {
     "name": "stdout",
     "output_type": "stream",
     "text": [
      "0.8285714285714286\n",
      "              precision    recall  f1-score   support\n",
      "\n",
      "           0       0.77      0.77      0.77        13\n",
      "           1       0.82      1.00      0.90         9\n",
      "           2       0.91      0.77      0.83        13\n",
      "\n",
      "    accuracy                           0.83        35\n",
      "   macro avg       0.83      0.85      0.83        35\n",
      "weighted avg       0.83      0.83      0.83        35\n",
      "\n"
     ]
    }
   ],
   "source": [
    "from sklearn.ensemble import RandomForestClassifier\n",
    "from sklearn.metrics import classification_report\n",
    "\n",
    "rfc = RandomForestClassifier(random_state=42).fit(X_train, y_train)\n",
    "print(rfc.score(X_test, y_test))\n",
    "print(classification_report(rfc.predict(X_test), y_test))"
   ]
  },
  {
   "cell_type": "code",
   "execution_count": 79,
   "metadata": {},
   "outputs": [],
   "source": [
    "# попробуем подобрать параметры по сетке\n",
    "# params = {\n",
    "#     'n_estimators': list(range(50, 201, 10)),\n",
    "#     'max_depth': list(range(1, 15))\n",
    "# }\n",
    "# grid = GridSearchCV(RandomForestClassifier(), params)\n",
    "# grid.fit(X_train, y_train)\n",
    "# grid.best_estimator_"
   ]
  },
  {
   "cell_type": "code",
   "execution_count": 80,
   "metadata": {},
   "outputs": [],
   "source": [
    "# rfc = RandomForestClassifier(max_depth=2, n_estimators=70).fit(X_train, y_train)\n",
    "# rfc.score(X_test, y_test)"
   ]
  },
  {
   "attachments": {},
   "cell_type": "markdown",
   "metadata": {},
   "source": [
    "### KNeighborsClassifier"
   ]
  },
  {
   "cell_type": "code",
   "execution_count": 81,
   "metadata": {},
   "outputs": [
    {
     "data": {
      "text/plain": [
       "0.7142857142857143"
      ]
     },
     "execution_count": 81,
     "metadata": {},
     "output_type": "execute_result"
    }
   ],
   "source": [
    "from sklearn.neighbors import KNeighborsClassifier\n",
    "\n",
    "# стандартизация добавила 9% точности (было 0.62)\n",
    "knc = KNeighborsClassifier().fit(scale(X_train), y_train)\n",
    "knc.score(scale(X_test), y_test)"
   ]
  },
  {
   "cell_type": "code",
   "execution_count": 82,
   "metadata": {},
   "outputs": [],
   "source": [
    "# import numpy as np\n",
    "\n",
    "# params = {\n",
    "#     'n_neighbors': list(range(1, 10)),\n",
    "#     'p': np.linspace(1, 4, 100)\n",
    "# }\n",
    "# grid = GridSearchCV(KNeighborsClassifier(), params)\n",
    "# grid.fit(scale(X_train), y_train)\n",
    "# grid.best_estimator_"
   ]
  },
  {
   "cell_type": "code",
   "execution_count": 83,
   "metadata": {},
   "outputs": [],
   "source": [
    "# knc = KNeighborsClassifier(n_neighbors=6).fit(scale(X_train), y_train)\n",
    "# print(knc.score(scale(X_test), y_test))\n",
    "# print(classification_report(knc.predict(scale(X_test)), y_test))"
   ]
  },
  {
   "attachments": {},
   "cell_type": "markdown",
   "metadata": {},
   "source": [
    "Классификатор подбирает оптимальные параметры по умолчанию"
   ]
  }
 ],
 "metadata": {
  "kernelspec": {
   "display_name": "Python 3",
   "language": "python",
   "name": "python3"
  },
  "language_info": {
   "codemirror_mode": {
    "name": "ipython",
    "version": 3
   },
   "file_extension": ".py",
   "mimetype": "text/x-python",
   "name": "python",
   "nbconvert_exporter": "python",
   "pygments_lexer": "ipython3",
   "version": "3.10.8"
  },
  "orig_nbformat": 4,
  "vscode": {
   "interpreter": {
    "hash": "97cc609b13305c559618ec78a438abc56230b9381f827f22d070313b9a1f3777"
   }
  }
 },
 "nbformat": 4,
 "nbformat_minor": 2
}
