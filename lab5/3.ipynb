{
 "cells": [
  {
   "cell_type": "code",
   "execution_count": 14,
   "metadata": {},
   "outputs": [
    {
     "data": {
      "text/html": [
       "<div>\n",
       "<style scoped>\n",
       "    .dataframe tbody tr th:only-of-type {\n",
       "        vertical-align: middle;\n",
       "    }\n",
       "\n",
       "    .dataframe tbody tr th {\n",
       "        vertical-align: top;\n",
       "    }\n",
       "\n",
       "    .dataframe thead th {\n",
       "        text-align: right;\n",
       "    }\n",
       "</style>\n",
       "<table border=\"1\" class=\"dataframe\">\n",
       "  <thead>\n",
       "    <tr style=\"text-align: right;\">\n",
       "      <th></th>\n",
       "      <th>location</th>\n",
       "      <th>town</th>\n",
       "      <th>mortality</th>\n",
       "      <th>hardness</th>\n",
       "    </tr>\n",
       "  </thead>\n",
       "  <tbody>\n",
       "    <tr>\n",
       "      <th>0</th>\n",
       "      <td>South</td>\n",
       "      <td>Bath</td>\n",
       "      <td>1247</td>\n",
       "      <td>105</td>\n",
       "    </tr>\n",
       "    <tr>\n",
       "      <th>1</th>\n",
       "      <td>North</td>\n",
       "      <td>Birkenhead</td>\n",
       "      <td>1668</td>\n",
       "      <td>17</td>\n",
       "    </tr>\n",
       "    <tr>\n",
       "      <th>2</th>\n",
       "      <td>South</td>\n",
       "      <td>Birmingham</td>\n",
       "      <td>1466</td>\n",
       "      <td>5</td>\n",
       "    </tr>\n",
       "    <tr>\n",
       "      <th>3</th>\n",
       "      <td>North</td>\n",
       "      <td>Blackburn</td>\n",
       "      <td>1800</td>\n",
       "      <td>14</td>\n",
       "    </tr>\n",
       "    <tr>\n",
       "      <th>4</th>\n",
       "      <td>North</td>\n",
       "      <td>Blackpool</td>\n",
       "      <td>1609</td>\n",
       "      <td>18</td>\n",
       "    </tr>\n",
       "  </tbody>\n",
       "</table>\n",
       "</div>"
      ],
      "text/plain": [
       "  location        town  mortality  hardness\n",
       "0    South        Bath       1247       105\n",
       "1    North  Birkenhead       1668        17\n",
       "2    South  Birmingham       1466         5\n",
       "3    North   Blackburn       1800        14\n",
       "4    North   Blackpool       1609        18"
      ]
     },
     "execution_count": 14,
     "metadata": {},
     "output_type": "execute_result"
    }
   ],
   "source": [
    "import pandas as pd\n",
    "df = pd.read_csv('water.txt', sep='\\t')\n",
    "df.head()"
   ]
  },
  {
   "cell_type": "markdown",
   "metadata": {},
   "source": [
    "1) Используя метод .describe() вычислите описательные статистики для северных и\n",
    "южных городов. Сравните средние значения смертности в северных и южных\n",
    "городах и значения концентрации кальция в питьевой воде.\n"
   ]
  },
  {
   "cell_type": "code",
   "execution_count": 15,
   "metadata": {},
   "outputs": [
    {
     "name": "stdout",
     "output_type": "stream",
     "text": [
      "         mortality    hardness\n",
      "count    26.000000   26.000000\n",
      "mean   1376.807692   69.769231\n",
      "std     140.269175   40.360682\n",
      "min    1096.000000    5.000000\n",
      "25%    1259.250000   40.250000\n",
      "50%    1364.000000   75.500000\n",
      "75%    1485.750000   99.750000\n",
      "max    1627.000000  138.000000\n",
      "         mortality   hardness\n",
      "count    35.000000  35.000000\n",
      "mean   1633.600000  30.400000\n",
      "std     136.936911  26.134494\n",
      "min    1378.000000   6.000000\n",
      "25%    1557.500000  12.500000\n",
      "50%    1637.000000  17.000000\n",
      "75%    1718.000000  44.000000\n",
      "max    1987.000000  94.000000\n"
     ]
    }
   ],
   "source": [
    "print(df.loc[df.location == 'South'].describe())\n",
    "print(df.loc[df.location == 'North'].describe())"
   ]
  },
  {
   "cell_type": "markdown",
   "metadata": {},
   "source": [
    "2) Постройте 95% доверительные интервалы для средней годовой смертности по\n",
    "всем южным и северным городам. Отличаются ли границы интервалов?\n"
   ]
  },
  {
   "cell_type": "code",
   "execution_count": 16,
   "metadata": {},
   "outputs": [
    {
     "name": "stdout",
     "output_type": "stream",
     "text": [
      "North 95%: (1586.5605251961385, 1680.6394748038613)\n",
      "South 95%: (1320.1517462936238, 1433.463638321761)\n"
     ]
    }
   ],
   "source": [
    "from statsmodels.stats.weightstats import _tconfint_generic\n",
    "import numpy as np\n",
    "\n",
    "dfn = df.loc[df.location == 'North']\n",
    "dfs = df.loc[df.location == 'South']\n",
    "mort_mean_N = dfn.mortality.mean()\n",
    "mort_mean_S = dfs.mortality.mean()\n",
    "mort_mean_std_N = dfn.mortality.std() / np.sqrt(dfn.mortality.shape[0])\n",
    "mort_mean_std_S = dfs.mortality.std() / np.sqrt(dfs.mortality.shape[0])\n",
    "print('North 95%:', _tconfint_generic(mort_mean_N, mort_mean_std_N, dfn.mortality.shape[0] - 1, 0.05, 'two-sided'))\n",
    "print('South 95%:', _tconfint_generic(mort_mean_S, mort_mean_std_S, dfs.mortality.shape[0] - 1, 0.05, 'two-sided'))\n"
   ]
  },
  {
   "cell_type": "markdown",
   "metadata": {},
   "source": [
    "3) Постройте 95% доверительные интервалы для средней концентрации кальция в\n",
    "питьевой воде для южных и северных городов. Отличаются ли границы\n",
    "интервалов?\n"
   ]
  },
  {
   "cell_type": "code",
   "execution_count": 17,
   "metadata": {},
   "outputs": [
    {
     "name": "stdout",
     "output_type": "stream",
     "text": [
      "North 95%: (23.59974601640619, 37.20025398359381)\n",
      "South 95%: (59.126244549564035, 80.41221698889751)\n"
     ]
    }
   ],
   "source": [
    "hard_mean_N = dfn.hardness.mean()\n",
    "hard_mean_S = dfs.hardness.mean()\n",
    "hard_mean_std_N = dfn.hardness.std() / np.sqrt(df.hardness.shape[0])\n",
    "hard_mean_std_S = dfs.hardness.std() / np.sqrt(df.hardness.shape[0])\n",
    "print('North 95%:', _tconfint_generic(hard_mean_N, hard_mean_std_N, dfn.hardness.shape[0] - 1, 0.05, 'two-sided'))\n",
    "print('South 95%:', _tconfint_generic(hard_mean_S, hard_mean_std_S, dfs.hardness.shape[0] - 1, 0.05, 'two-sided'))"
   ]
  },
  {
   "cell_type": "markdown",
   "metadata": {},
   "source": [
    "4) Какие можно сделать выводы?<br>\n",
    "На севере доверительные интервалы смертности и содержания кальция меньше, чем на юге"
   ]
  }
 ],
 "metadata": {
  "kernelspec": {
   "display_name": "Python 3.10.8 64-bit",
   "language": "python",
   "name": "python3"
  },
  "language_info": {
   "codemirror_mode": {
    "name": "ipython",
    "version": 3
   },
   "file_extension": ".py",
   "mimetype": "text/x-python",
   "name": "python",
   "nbconvert_exporter": "python",
   "pygments_lexer": "ipython3",
   "version": "3.10.8"
  },
  "orig_nbformat": 4,
  "vscode": {
   "interpreter": {
    "hash": "97cc609b13305c559618ec78a438abc56230b9381f827f22d070313b9a1f3777"
   }
  }
 },
 "nbformat": 4,
 "nbformat_minor": 2
}
